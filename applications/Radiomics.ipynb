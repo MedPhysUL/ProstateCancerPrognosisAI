{
 "cells": [
  {
   "cell_type": "markdown",
   "id": "360750d2",
   "metadata": {},
   "source": [
    "# Radiomic features selection\n",
    "\n",
    "This notebook is designed to compute and save the data used for radiomics analysis."
   ]
  },
  {
   "cell_type": "code",
   "execution_count": null,
   "id": "11beb89f",
   "metadata": {},
   "outputs": [],
   "source": [
    "import env_apps\n",
    "\n",
    "import matplotlib.pyplot as plt\n",
    "import matplotlib\n",
    "import numpy as np\n",
    "import pandas as pd\n",
    "from sklearn.ensemble import RandomForestClassifier\n",
    "\n",
    "from constants import *\n",
    "from src.data.datasets import Mask, TableDataset\n",
    "from src.data.processing.sampling import extract_masks\n"
   ]
  },
  {
   "cell_type": "markdown",
   "id": "dfe227f8",
   "metadata": {},
   "source": [
    "We define our clinical features."
   ]
  },
  {
   "cell_type": "code",
   "execution_count": null,
   "id": "26755b64",
   "metadata": {},
   "outputs": [],
   "source": [
    "AGE = Feature(column=\"AGE\")\n",
    "CLINICAL_STAGE = Feature(column=\"CLINICAL_STAGE\", transform=MappingEncoding({\"T1-T2\": 0, \"T3a\": 1}))\n",
    "GLEASON_GLOBAL = Feature(column=\"GLEASON_GLOBAL\")\n",
    "GLEASON_PRIMARY = Feature(column=\"GLEASON_PRIMARY\")\n",
    "GLEASON_SECONDARY = Feature(column=\"GLEASON_SECONDARY\")\n",
    "PSA = Feature(column=\"PSA\")\n"
   ]
  },
  {
   "cell_type": "markdown",
   "id": "2a358142",
   "metadata": {},
   "source": [
    "We extract the masks."
   ]
  },
  {
   "cell_type": "code",
   "execution_count": null,
   "id": "0380d930",
   "metadata": {},
   "outputs": [],
   "source": [
    "masks = extract_masks(os.path.join(MASKS_PATH, \"masks.json\"), k=5, l=5)"
   ]
  },
  {
   "cell_type": "markdown",
   "id": "588128be",
   "metadata": {},
   "source": [
    "We create a plotting function."
   ]
  },
  {
   "cell_type": "code",
   "execution_count": null,
   "id": "ef405bc1",
   "metadata": {},
   "outputs": [],
   "source": [
    "def plot_features_importance(forest, columns, figsize=(12, 6)):\n",
    "    fig, ax = plt.subplots(1, 1, figsize=figsize)\n",
    "\n",
    "    importances = forest.feature_importances_\n",
    "\n",
    "    tree_importance_sorted_idx = np.argsort(importances)\n",
    "    tree_indices = np.arange(0, len(importances)) + 0.5\n",
    "\n",
    "    std = np.std([tree.feature_importances_ for tree in forest.estimators_], axis=0)[tree_importance_sorted_idx][-10:]\n",
    "\n",
    "    ax.barh(tree_indices[:10], importances[tree_importance_sorted_idx][-10:], height=0.7, xerr=std)\n",
    "    ax.set_yticks(tree_indices[:10])\n",
    "    ax.set_yticklabels(columns[tree_importance_sorted_idx][-10:])\n",
    "    ax.set_title(\"Feature importances using MDI\")\n",
    "    ax.set_ylabel(\"Mean decrease in impurity\")\n",
    "    ax.set_ylim((0, len(importances[-10:])))\n",
    "    fig.tight_layout()\n",
    "    plt.show()\n"
   ]
  },
  {
   "cell_type": "markdown",
   "id": "150b9cdb",
   "metadata": {},
   "source": [
    "We create a function to retrieve targets."
   ]
  },
  {
   "cell_type": "code",
   "execution_count": null,
   "id": "4fab6353",
   "metadata": {},
   "outputs": [],
   "source": [
    "def get_targets(path: str, target_column: str):\n",
    "    df = pd.read_csv(path)\n",
    "    targets = df.loc[:, [target_column]]\n",
    "    targets = np.array(targets).ravel()\n",
    "    \n",
    "    return targets\n"
   ]
  },
  {
   "cell_type": "markdown",
   "id": "6785a875",
   "metadata": {},
   "source": [
    "We create a function extract radiomics."
   ]
  },
  {
   "cell_type": "code",
   "execution_count": null,
   "id": "a190fe39",
   "metadata": {},
   "outputs": [],
   "source": [
    "def get_radiomics_df(path: str, modality: str):\n",
    "    radiomics_df = pd.read_csv(path)\n",
    "    radiomics_df = radiomics_df.sort_values([\"ID\"])\n",
    "\n",
    "    columns = []\n",
    "    for column in radiomics_df.columns:\n",
    "        if modality == \"PT\" and column.startswith(\"original_shape\"):\n",
    "            continue\n",
    "        elif column.startswith(\"diagnostics\") or column == \"ID\":\n",
    "            continue\n",
    "        else:\n",
    "            columns.append(column)\n",
    "\n",
    "    radiomics_df = radiomics_df[columns]\n",
    "    radiomics_df = radiomics_df.rename(columns=lambda x: f\"{modality}_{x}\")\n",
    "\n",
    "    return radiomics_df\n"
   ]
  },
  {
   "cell_type": "markdown",
   "id": "074fb2de",
   "metadata": {},
   "source": [
    "We create a function to save dataframes containing both clinical and radiomics data."
   ]
  },
  {
   "cell_type": "code",
   "execution_count": null,
   "id": "c0379f45",
   "metadata": {},
   "outputs": [],
   "source": [
    "def save_outer_splits_dataframes(\n",
    "    path_to_clinical_df: str,\n",
    "    path_to_ct_radiomics_df: str,\n",
    "    path_to_pt_radiomics_df: str,\n",
    "    path_to_folder: str, \n",
    "    masks: dict,\n",
    "    mapping: dict = None\n",
    "):\n",
    "    learning_df = pd.read_csv(path_to_clinical_df)\n",
    "\n",
    "    table_dataset = TableDataset(\n",
    "        df=learning_df,\n",
    "        ids_col=ID,\n",
    "        tasks=TABLE_TASKS,\n",
    "        cont_features=[AGE, PSA],\n",
    "        cat_features=[CLINICAL_STAGE, GLEASON_GLOBAL, GLEASON_PRIMARY, GLEASON_SECONDARY]\n",
    "    )\n",
    "\n",
    "    ct_radiomics_df = get_radiomics_df(path_to_ct_radiomics_df, \"CT\")\n",
    "    pt_radiomics_df = get_radiomics_df(path_to_pt_radiomics_df, \"PT\")\n",
    "    radiomics_df = pd.concat([ct_radiomics_df, pt_radiomics_df], axis=1)\n",
    "\n",
    "    for k, v in masks.items():\n",
    "        print(f\"Outer split {k}\")\n",
    "        train_mask, valid_mask, test_mask, inner_masks = v[Mask.TRAIN], v[Mask.VALID], v[Mask.TEST], v[Mask.INNER]\n",
    "        table_dataset.update_masks(train_mask=train_mask, valid_mask=valid_mask, test_mask=test_mask)\n",
    "        dataframe = table_dataset.imputed_df.copy()\n",
    "\n",
    "        if mapping:\n",
    "            dataframe[CLINICAL_STAGE.column] = dataframe[CLINICAL_STAGE.column].map(mapping)\n",
    "\n",
    "        dataframes = [dataframe]\n",
    "        for task in TABLE_TASKS:\n",
    "            targets = dataframe.loc[:, [task.target_column]]\n",
    "            targets = np.array(targets).ravel()\n",
    "            targets = targets[train_mask + valid_mask]\n",
    "            nan_mask = np.isnan(targets)\n",
    "\n",
    "            y_train = targets[~nan_mask]\n",
    "            X_train = radiomics_df.iloc[train_mask + valid_mask][~nan_mask]\n",
    "\n",
    "            forest = RandomForestClassifier(n_estimators=10000, random_state=0)\n",
    "            forest.fit(X_train, y_train)\n",
    "\n",
    "            importances = forest.feature_importances_\n",
    "            forest_importances = pd.Series(importances, index=radiomics_df.columns)\n",
    "            most_important_features = list(forest_importances.nlargest(n=6).index)\n",
    "            radiomics = radiomics_df[most_important_features].copy()\n",
    "            radiomics = radiomics.rename(columns=lambda x: f\"{task.target_column}_{x}\")\n",
    "            dataframes.append(radiomics)\n",
    "\n",
    "        named_masks = {\"train\": train_mask, \"valid\": valid_mask, \"test\": test_mask}\n",
    "        dataframe = pd.concat(dataframes, axis=1)\n",
    "        display(dataframe)\n",
    "        dataframe = pd.concat(\n",
    "            objs=[dataframe.iloc[mask].assign(SETS=name) for name, mask in named_masks.items()],\n",
    "            ignore_index=True\n",
    "        )\n",
    "\n",
    "        # dataframe.to_csv(os.path.join(path_to_folder, f\"outer_split_{k}.csv\"), index=False)\n"
   ]
  },
  {
   "cell_type": "code",
   "execution_count": null,
   "id": "1a540f6d",
   "metadata": {
    "scrolled": false
   },
   "outputs": [],
   "source": [
    "save_outer_splits_dataframes(\n",
    "    path_to_clinical_df=\"local_data/learning_table.csv\",\n",
    "    path_to_ct_radiomics_df=\"local_data/ct_radiomics.csv\",\n",
    "    path_to_pt_radiomics_df=\"local_data/pt_radiomics.csv\",\n",
    "    path_to_folder=\"local_data/radiomics/\",\n",
    "    masks=masks,\n",
    "    mapping={0: \"T1-T2\", 1: \"T3a\"}\n",
    ")"
   ]
  },
  {
   "cell_type": "code",
   "execution_count": null,
   "id": "6953fcfb",
   "metadata": {
    "scrolled": false
   },
   "outputs": [],
   "source": [
    "forest = RandomForestClassifier(n_estimators=10000, random_state=0)\n",
    "forest.fit(radiomics_df, targets)\n",
    "\n",
    "plot_features_importance(forest, radiomics_df, (12, 28))\n"
   ]
  },
  {
   "cell_type": "code",
   "execution_count": null,
   "id": "b31e8cbd",
   "metadata": {},
   "outputs": [],
   "source": [
    "importances = forest.feature_importances_\n",
    "forest_importances = pd.Series(importances, index=radiomics_df.columns)\n",
    "most_important_features = list(forest_importances.nlargest(n=6).index)\n",
    "radiomics = radiomics_df[most_important_features]\n",
    "display(radiomics)\n"
   ]
  },
  {
   "cell_type": "code",
   "execution_count": null,
   "id": "85e75dae",
   "metadata": {
    "scrolled": true
   },
   "outputs": [],
   "source": [
    "from sklearn.linear_model import LogisticRegression\n",
    "from sklearn.metrics import roc_auc_score, auc\n",
    "from sklearn.metrics import balanced_accuracy_score\n",
    "\n",
    "masks = extract_masks(os.path.join(MASKS_PATH, \"masks.json\"), k=5, l=5)\n",
    "\n",
    "logistic_auc = []\n",
    "logistic_balanced = []\n",
    "patients = []\n",
    "for k, v in masks.items():\n",
    "    train_mask, valid_mask, test_mask, inner_masks = v[Mask.TRAIN], v[Mask.VALID], v[Mask.TEST], v[Mask.INNER]\n",
    "    \n",
    "    X_train = radiomics.iloc[train_mask + valid_mask].to_numpy()\n",
    "    X_test = radiomics.iloc[test_mask].to_numpy()\n",
    "\n",
    "    y_train = targets[train_mask + valid_mask]\n",
    "    y_test = targets[test_mask]\n",
    "\n",
    "    clf = LogisticRegression(random_state=0, class_weight=\"balanced\").fit(X_train, y_train)\n",
    "    y_pred_proba = clf.predict_proba(X_test)[:, 1]\n",
    "    y_pred = clf.predict(X_test)\n",
    "    logistic_auc.append(roc_auc_score(y_test, y_pred_proba))\n",
    "    logistic_balanced.append(balanced_accuracy_score(y_test, y_pred))\n",
    "\n",
    "print(logistic_auc)\n",
    "print(f\"Logistic AUC: ({np.mean(logistic_auc)}+-{np.std(logistic_auc)})\")\n",
    "print(f\"Logistic Balanced: ({np.mean(logistic_balanced)}+-{np.std(logistic_balanced)})\")\n"
   ]
  },
  {
   "cell_type": "code",
   "execution_count": null,
   "id": "90817841",
   "metadata": {},
   "outputs": [],
   "source": []
  }
 ],
 "metadata": {
  "kernelspec": {
   "display_name": "Python 3 (ipykernel)",
   "language": "python",
   "name": "python3"
  },
  "language_info": {
   "codemirror_mode": {
    "name": "ipython",
    "version": 3
   },
   "file_extension": ".py",
   "mimetype": "text/x-python",
   "name": "python",
   "nbconvert_exporter": "python",
   "pygments_lexer": "ipython3",
   "version": "3.11.2"
  }
 },
 "nbformat": 4,
 "nbformat_minor": 5
}
