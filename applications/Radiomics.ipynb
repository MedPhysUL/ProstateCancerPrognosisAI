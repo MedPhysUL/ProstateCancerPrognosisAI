{
 "cells": [
  {
   "cell_type": "markdown",
   "id": "360750d2",
   "metadata": {},
   "source": [
    "# Radiomic features selection\n",
    "\n",
    "This notebook is designed to compute and save the data used for radiomics analysis."
   ]
  },
  {
   "cell_type": "code",
   "execution_count": null,
   "id": "11beb89f",
   "metadata": {},
   "outputs": [],
   "source": [
    "import env_apps\n",
    "\n",
    "import matplotlib.pyplot as plt\n",
    "import matplotlib\n",
    "import numpy as np\n",
    "import pandas as pd\n",
    "from sklearn.ensemble import RandomForestClassifier\n",
    "\n",
    "from constants import *\n",
    "from src.data.datasets import Mask, TableDataset\n",
    "from src.data.processing.sampling import extract_masks\n"
   ]
  },
  {
   "cell_type": "markdown",
   "id": "dfe227f8",
   "metadata": {},
   "source": [
    "We define our clinical features."
   ]
  },
  {
   "cell_type": "code",
   "execution_count": null,
   "id": "26755b64",
   "metadata": {},
   "outputs": [],
   "source": [
    "AGE = Feature(column=\"AGE\")\n",
    "CLINICAL_STAGE = Feature(column=\"CLINICAL_STAGE\", transform=MappingEncoding({\"T1-T2\": 0, \"T3a\": 1}))\n",
    "GLEASON_GLOBAL = Feature(column=\"GLEASON_GLOBAL\")\n",
    "GLEASON_PRIMARY = Feature(column=\"GLEASON_PRIMARY\")\n",
    "GLEASON_SECONDARY = Feature(column=\"GLEASON_SECONDARY\")\n",
    "PSA = Feature(column=\"PSA\")\n"
   ]
  },
  {
   "cell_type": "markdown",
   "id": "2a358142",
   "metadata": {},
   "source": [
    "We extract the masks."
   ]
  },
  {
   "cell_type": "code",
   "execution_count": null,
   "id": "0380d930",
   "metadata": {},
   "outputs": [],
   "source": [
    "masks = extract_masks(os.path.join(MASKS_PATH, \"masks.json\"), k=5, l=5)"
   ]
  },
  {
   "cell_type": "markdown",
   "id": "588128be",
   "metadata": {},
   "source": [
    "We create a plotting function."
   ]
  },
  {
   "cell_type": "code",
   "execution_count": null,
   "id": "ef405bc1",
   "metadata": {},
   "outputs": [],
   "source": [
    "def plot_features_importance(forest, columns, figsize=(12, 6)):\n",
    "    fig, ax = plt.subplots(1, 1, figsize=figsize)\n",
    "\n",
    "    importances = forest.feature_importances_\n",
    "\n",
    "    tree_importance_sorted_idx = np.argsort(importances)\n",
    "    tree_indices = np.arange(0, len(importances)) + 0.5\n",
    "\n",
    "    std = np.std([tree.feature_importances_ for tree in forest.estimators_], axis=0)[tree_importance_sorted_idx][-6:]\n",
    "\n",
    "    ax.barh(tree_indices[:6], importances[tree_importance_sorted_idx][-6:], height=0.7, xerr=std)\n",
    "    ax.set_yticks(tree_indices[:6])\n",
    "    ax.set_yticklabels(columns[tree_importance_sorted_idx][-6:])\n",
    "    ax.set_title(\"Feature importances using MDI\")\n",
    "    ax.set_ylabel(\"Mean decrease in impurity\")\n",
    "    ax.set_ylim((0, len(importances[-6:])))\n",
    "    fig.tight_layout()\n",
    "    plt.show()\n"
   ]
  },
  {
   "cell_type": "markdown",
   "id": "150b9cdb",
   "metadata": {},
   "source": [
    "We create a function to retrieve targets."
   ]
  },
  {
   "cell_type": "code",
   "execution_count": null,
   "id": "4fab6353",
   "metadata": {},
   "outputs": [],
   "source": [
    "def get_targets(path: str, target_column: str):\n",
    "    df = pd.read_csv(path)\n",
    "    targets = df.loc[:, [target_column]]\n",
    "    targets = np.array(targets).ravel()\n",
    "    \n",
    "    return targets\n"
   ]
  },
  {
   "cell_type": "markdown",
   "id": "6785a875",
   "metadata": {},
   "source": [
    "We create a function extract radiomics."
   ]
  },
  {
   "cell_type": "code",
   "execution_count": null,
   "id": "a190fe39",
   "metadata": {},
   "outputs": [],
   "source": [
    "def get_radiomics_df(path: str, modality: str):\n",
    "    radiomics_df = pd.read_csv(path)\n",
    "    radiomics_df = radiomics_df.sort_values([\"ID\"])\n",
    "\n",
    "    columns = []\n",
    "    for column in radiomics_df.columns:\n",
    "        if modality == \"PT\" and column.startswith(\"original_shape\"):\n",
    "            continue\n",
    "        elif column.startswith(\"diagnostics\") or column == \"ID\":\n",
    "            continue\n",
    "        else:\n",
    "            columns.append(column)\n",
    "\n",
    "    radiomics_df = radiomics_df[columns]\n",
    "    radiomics_df = radiomics_df.rename(columns=lambda x: f\"{modality}_{x}\")\n",
    "\n",
    "    return radiomics_df\n"
   ]
  },
  {
   "cell_type": "markdown",
   "id": "074fb2de",
   "metadata": {},
   "source": [
    "We create a function to save dataframes containing both clinical and radiomics data."
   ]
  },
  {
   "cell_type": "code",
   "execution_count": null,
   "id": "c0379f45",
   "metadata": {},
   "outputs": [],
   "source": [
    "def save_outer_splits_dataframes(\n",
    "    path_to_clinical_df: str,\n",
    "    path_to_ct_radiomics_df: str,\n",
    "    path_to_pt_radiomics_df: str,\n",
    "    path_to_folder: str, \n",
    "    masks: dict\n",
    "):\n",
    "    learning_df = pd.read_csv(path_to_clinical_df)\n",
    "\n",
    "    table_dataset = TableDataset(\n",
    "        df=learning_df,\n",
    "        ids_col=ID,\n",
    "        tasks=TABLE_TASKS,\n",
    "        cont_features=[AGE, PSA],\n",
    "        cat_features=[CLINICAL_STAGE, GLEASON_GLOBAL, GLEASON_PRIMARY, GLEASON_SECONDARY]\n",
    "    )\n",
    "\n",
    "    ct_radiomics_df = get_radiomics_df(path_to_ct_radiomics_df, \"CT\")\n",
    "    pt_radiomics_df = get_radiomics_df(path_to_pt_radiomics_df, \"PT\")\n",
    "    radiomics_df = pd.concat([ct_radiomics_df, pt_radiomics_df], axis=1)\n",
    "\n",
    "    for k, v in masks.items():\n",
    "        print(f\"Outer split {k}\")\n",
    "        train_mask, valid_mask, test_mask, inner_masks = v[Mask.TRAIN], v[Mask.VALID], v[Mask.TEST], v[Mask.INNER]\n",
    "        table_dataset.update_masks(train_mask=train_mask, valid_mask=valid_mask, test_mask=test_mask)\n",
    "        dataframe = table_dataset.imputed_df.copy()\n",
    "\n",
    "        dataframes = [dataframe]\n",
    "        for task in TABLE_TASKS:\n",
    "            print(task.target_column)\n",
    "            targets = dataframe.loc[:, [task.target_column]]\n",
    "            targets = np.array(targets).ravel()\n",
    "            targets = targets[train_mask + valid_mask]\n",
    "            nan_mask = np.isnan(targets)\n",
    "\n",
    "            y_train = targets[~nan_mask]\n",
    "            X_train = radiomics_df.iloc[train_mask + valid_mask][~nan_mask]\n",
    "\n",
    "            forest = RandomForestClassifier(n_estimators=10000, random_state=0)\n",
    "            forest.fit(X_train, y_train)\n",
    "            plot_features_importance(forest, radiomics_df.columns)\n",
    "\n",
    "            importances = forest.feature_importances_\n",
    "            forest_importances = pd.Series(importances, index=radiomics_df.columns)\n",
    "            most_important_features = list(forest_importances.nlargest(n=6).index)\n",
    "            radiomics = radiomics_df[most_important_features].copy()\n",
    "            radiomics = radiomics.rename(columns=lambda x: f\"{task.target_column}_{x}\")\n",
    "            dataframes.append(radiomics)\n",
    "\n",
    "        named_masks = {\"train\": train_mask, \"valid\": valid_mask, \"test\": test_mask}\n",
    "        dataframe = pd.concat(dataframes, axis=1)\n",
    "        dataframe = pd.concat(\n",
    "            objs=[dataframe.iloc[mask].assign(SETS=name) for name, mask in named_masks.items()],\n",
    "            ignore_index=True\n",
    "        )\n",
    "\n",
    "        dataframe.to_csv(os.path.join(path_to_folder, f\"outer_split_{k}.csv\"), index=False)\n"
   ]
  },
  {
   "cell_type": "markdown",
   "id": "5f364803",
   "metadata": {},
   "source": [
    "We create the function that will be used to save the final dataframe."
   ]
  },
  {
   "cell_type": "code",
   "execution_count": null,
   "id": "df703879",
   "metadata": {},
   "outputs": [],
   "source": [
    "def save_final_dataframe(\n",
    "    path_to_learning_df: str,\n",
    "    path_to_learning_ct_radiomics_df: str,\n",
    "    path_to_learning_pt_radiomics_df: str,\n",
    "    path_to_holdout_df: str,\n",
    "    path_to_holdout_ct_radiomics_df: str,\n",
    "    path_to_holdout_pt_radiomics_df: str,\n",
    "    path_to_folder: str,\n",
    "    masks: dict\n",
    "):\n",
    "    learning_df = pd.read_csv(path_to_learning_df)\n",
    "    holdout_df = pd.read_csv(path_to_holdout_df)\n",
    "\n",
    "    df = pd.concat([learning_df, holdout_df], ignore_index=True)\n",
    "\n",
    "    table_dataset = TableDataset(\n",
    "        df=df,\n",
    "        ids_col=ID,\n",
    "        tasks=TABLE_TASKS,\n",
    "        cont_features=[AGE, PSA],\n",
    "        cat_features=[CLINICAL_STAGE, GLEASON_GLOBAL, GLEASON_PRIMARY, GLEASON_SECONDARY]\n",
    "    )\n",
    "    \n",
    "    learning_ct_radiomics_df = get_radiomics_df(path_to_learning_ct_radiomics_df, \"CT\")\n",
    "    learning_pt_radiomics_df = get_radiomics_df(path_to_learning_pt_radiomics_df, \"PT\")\n",
    "    learning_radiomics_df = pd.concat([learning_ct_radiomics_df, learning_pt_radiomics_df], axis=1)\n",
    "    \n",
    "    holdout_ct_radiomics_df = get_radiomics_df(path_to_holdout_ct_radiomics_df, \"CT\")\n",
    "    holdout_pt_radiomics_df = get_radiomics_df(path_to_holdout_pt_radiomics_df, \"PT\")\n",
    "    holdout_radiomics_df = pd.concat([holdout_ct_radiomics_df, holdout_pt_radiomics_df], axis=1)\n",
    "    \n",
    "    radiomics_df = pd.concat([learning_radiomics_df, holdout_radiomics_df], ignore_index=True)\n",
    "    \n",
    "    train_mask = list(range(len(learning_df)))\n",
    "    test_mask = list(range(len(learning_df), len(learning_df) + len(holdout_df)))\n",
    "    \n",
    "    table_dataset.update_masks(\n",
    "        train_mask=train_mask,\n",
    "        test_mask=test_mask\n",
    "    )\n",
    "\n",
    "    dataframe = table_dataset.imputed_df.copy()\n",
    "\n",
    "    dataframes = [dataframe]\n",
    "    for task in TABLE_TASKS:\n",
    "        print(task.target_column)\n",
    "        targets = dataframe.loc[:, [task.target_column]]\n",
    "        targets = np.array(targets).ravel()\n",
    "        targets = targets[train_mask]\n",
    "        nan_mask = np.isnan(targets)\n",
    "\n",
    "        y_train = targets[~nan_mask]\n",
    "        X_train = radiomics_df.iloc[train_mask][~nan_mask]\n",
    "\n",
    "        forest = RandomForestClassifier(n_estimators=10000, random_state=0)\n",
    "        forest.fit(X_train, y_train)\n",
    "        plot_features_importance(forest, radiomics_df.columns)\n",
    "\n",
    "        importances = forest.feature_importances_\n",
    "        forest_importances = pd.Series(importances, index=radiomics_df.columns)\n",
    "        most_important_features = list(forest_importances.nlargest(n=6).index)\n",
    "        radiomics = radiomics_df[most_important_features].copy()\n",
    "        radiomics = radiomics.rename(columns=lambda x: f\"{task.target_column}_{x}\")\n",
    "        dataframes.append(radiomics)\n",
    "\n",
    "    named_masks = {\"train\": train_mask, \"test\": test_mask}\n",
    "    dataframe = pd.concat(dataframes, axis=1)\n",
    "    dataframe = pd.concat(\n",
    "        objs=[dataframe.iloc[mask].assign(SETS=name) for name, mask in named_masks.items()],\n",
    "        ignore_index=True\n",
    "    )\n",
    "\n",
    "    dataframe.to_csv(os.path.join(path_to_folder, f\"final_set.csv\"), index=False)\n"
   ]
  },
  {
   "cell_type": "markdown",
   "id": "e57a95d5",
   "metadata": {},
   "source": [
    "We save the outer splits dataframes."
   ]
  },
  {
   "cell_type": "code",
   "execution_count": null,
   "id": "1a540f6d",
   "metadata": {
    "scrolled": true
   },
   "outputs": [],
   "source": [
    "save_outer_splits_dataframes(\n",
    "    path_to_clinical_df=\"local_data/learning_table.csv\",\n",
    "    path_to_ct_radiomics_df=\"local_data/learning_ct_radiomics.csv\",\n",
    "    path_to_pt_radiomics_df=\"local_data/learning_pt_radiomics.csv\",\n",
    "    path_to_folder=\"local_data/radiomics/\",\n",
    "    masks=masks\n",
    ")"
   ]
  },
  {
   "cell_type": "markdown",
   "id": "cc4e8691",
   "metadata": {},
   "source": [
    "We save the final dataframe."
   ]
  },
  {
   "cell_type": "code",
   "execution_count": null,
   "id": "18f6f6d3",
   "metadata": {},
   "outputs": [],
   "source": [
    "save_final_dataframe(\n",
    "    path_to_learning_df=\"local_data/learning_table.csv\",\n",
    "    path_to_learning_ct_radiomics_df=\"local_data/learning_ct_radiomics.csv\",\n",
    "    path_to_learning_pt_radiomics_df=\"local_data/learning_pt_radiomics.csv\",\n",
    "    path_to_holdout_df=\"local_data/holdout_table.csv\",\n",
    "    path_to_holdout_ct_radiomics_df=\"local_data/holdout_ct_radiomics.csv\",\n",
    "    path_to_holdout_pt_radiomics_df=\"local_data/holdout_pt_radiomics.csv\",\n",
    "    path_to_folder=\"local_data/radiomics/\",\n",
    "    masks=masks\n",
    ")"
   ]
  },
  {
   "cell_type": "code",
   "execution_count": null,
   "id": "33a94712",
   "metadata": {},
   "outputs": [],
   "source": []
  }
 ],
 "metadata": {
  "kernelspec": {
   "display_name": "Python 3 (ipykernel)",
   "language": "python",
   "name": "python3"
  },
  "language_info": {
   "codemirror_mode": {
    "name": "ipython",
    "version": 3
   },
   "file_extension": ".py",
   "mimetype": "text/x-python",
   "name": "python",
   "nbconvert_exporter": "python",
   "pygments_lexer": "ipython3",
   "version": "3.11.2"
  }
 },
 "nbformat": 4,
 "nbformat_minor": 5
}
