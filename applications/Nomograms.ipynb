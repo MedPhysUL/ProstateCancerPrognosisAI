{
 "cells": [
  {
   "cell_type": "markdown",
   "id": "a6b656cd",
   "metadata": {},
   "source": [
    "# Nomograms\n",
    "\n",
    "This notebook is designed to compute and save the clinical data used for nomograms."
   ]
  },
  {
   "cell_type": "code",
   "execution_count": null,
   "id": "3b5d8f22",
   "metadata": {
    "scrolled": true
   },
   "outputs": [],
   "source": [
    "import env_apps\n",
    "\n",
    "import os\n",
    "import pandas as pd\n",
    "import numpy as np\n",
    "\n",
    "from constants import *\n",
    "from src.data.datasets import Mask, TableDataset\n",
    "from src.data.processing.sampling import extract_masks\n"
   ]
  },
  {
   "cell_type": "markdown",
   "id": "f124fce0",
   "metadata": {},
   "source": [
    "We define our clinical features."
   ]
  },
  {
   "cell_type": "code",
   "execution_count": null,
   "id": "07905999",
   "metadata": {},
   "outputs": [],
   "source": [
    "AGE = Feature(column=\"AGE\")\n",
    "CLINICAL_STAGE = Feature(column=\"CLINICAL_STAGE\", transform=MappingEncoding({\"T1-T2\": 0, \"T3a\": 1}))\n",
    "CLINICAL_STAGE_MSKCC = Feature(\n",
    "    column=\"CLINICAL_STAGE_MSKCC_STYLE\",\n",
    "    transform=MappingEncoding(\n",
    "        {\"T1c\": 0, \"T2\": 0.2, \"T2a\": 0.2, \"T2b\": 0.4, \"T2c\": 0.6, \"T3\": 0.8, \"T3a\": 0.8, \"T3b\": 1}\n",
    "    )\n",
    ")\n",
    "GLEASON_GLOBAL = Feature(column=\"GLEASON_GLOBAL\")\n",
    "GLEASON_PRIMARY = Feature(column=\"GLEASON_PRIMARY\")\n",
    "GLEASON_SECONDARY = Feature(column=\"GLEASON_SECONDARY\")\n",
    "PSA = Feature(column=\"PSA\")\n"
   ]
  },
  {
   "cell_type": "markdown",
   "id": "48838081",
   "metadata": {},
   "source": [
    "We extract the masks."
   ]
  },
  {
   "cell_type": "code",
   "execution_count": null,
   "id": "46b2dd51",
   "metadata": {},
   "outputs": [],
   "source": [
    "masks = extract_masks(os.path.join(MASKS_PATH, \"masks.json\"), k=5, l=5)"
   ]
  },
  {
   "cell_type": "markdown",
   "id": "51018020",
   "metadata": {},
   "source": [
    "We create the function that will be used to save the outer splits imputed dataframes."
   ]
  },
  {
   "cell_type": "code",
   "execution_count": null,
   "id": "5feaa16e",
   "metadata": {},
   "outputs": [],
   "source": [
    "def save_outer_splits_dataframes(\n",
    "    path_to_df: str, \n",
    "    path_to_folder: str, \n",
    "    stage_feature: Feature,\n",
    "    masks: dict,\n",
    "    mapping: dict = None\n",
    "):\n",
    "    learning_df = pd.read_csv(path_to_df)\n",
    "\n",
    "    table_dataset = TableDataset(\n",
    "        df=learning_df,\n",
    "        ids_col=ID,\n",
    "        tasks=TABLE_TASKS,\n",
    "        cont_features=[AGE, PSA],\n",
    "        cat_features=[stage_feature, GLEASON_GLOBAL, GLEASON_PRIMARY, GLEASON_SECONDARY]\n",
    "    )\n",
    "    \n",
    "    for k, v in masks.items():\n",
    "        train_mask, valid_mask, test_mask, inner_masks = v[Mask.TRAIN], v[Mask.VALID], v[Mask.TEST], v[Mask.INNER]\n",
    "        table_dataset.update_masks(train_mask=train_mask, valid_mask=valid_mask, test_mask=test_mask)\n",
    "        dataframe = table_dataset.imputed_df.copy()\n",
    "        \n",
    "        if mapping:\n",
    "            dataframe[stage_feature.column] = dataframe[stage_feature.column].map(mapping)\n",
    "\n",
    "        named_masks = {\"train\": train_mask, \"valid\": valid_mask, \"test\": test_mask}\n",
    "        dataframe = pd.concat(\n",
    "            objs=[dataframe.iloc[mask].assign(SETS=name) for name, mask in named_masks.items()],\n",
    "            ignore_index=True\n",
    "        )\n",
    "\n",
    "        dataframe.to_csv(os.path.join(path_to_folder, f\"outer_split_{k}.csv\"), index=False)\n"
   ]
  },
  {
   "cell_type": "markdown",
   "id": "f7be839f",
   "metadata": {},
   "source": [
    "We create the function that will be used to save the final dataframe."
   ]
  },
  {
   "cell_type": "code",
   "execution_count": null,
   "id": "e8fe8f0f",
   "metadata": {},
   "outputs": [],
   "source": [
    "def save_final_dataframe(\n",
    "    path_to_learning_df: str, \n",
    "    path_to_holdout_df: str, \n",
    "    path_to_folder: str, \n",
    "    stage_feature: Feature,\n",
    "    masks: dict,\n",
    "    mapping: dict = None\n",
    "):\n",
    "    learning_df = pd.read_csv(path_to_learning_df)\n",
    "    holdout_df = pd.read_csv(path_to_holdout_df)\n",
    "\n",
    "    df = pd.concat([learning_df, holdout_df], ignore_index=True)\n",
    "\n",
    "    table_dataset = TableDataset(\n",
    "        df=df,\n",
    "        ids_col=ID,\n",
    "        tasks=TABLE_TASKS,\n",
    "        cont_features=[AGE, PSA],\n",
    "        cat_features=[stage_feature, GLEASON_GLOBAL, GLEASON_PRIMARY, GLEASON_SECONDARY]\n",
    "    )\n",
    "    \n",
    "    train_mask = list(range(len(learning_df)))\n",
    "    test_mask = list(range(len(learning_df), len(learning_df) + len(holdout_df)))\n",
    "    \n",
    "    table_dataset.update_masks(\n",
    "        train_mask=train_mask,\n",
    "        test_mask=test_mask\n",
    "    )\n",
    "    \n",
    "    dataframe = table_dataset.imputed_df.copy()\n",
    "    if mapping:\n",
    "        dataframe[stage_feature.column] = dataframe[stage_feature.column].map(mapping)\n",
    "\n",
    "    named_masks = {\"train\": train_mask, \"test\": test_mask}\n",
    "    dataframe = pd.concat(\n",
    "        objs=[dataframe.iloc[mask].assign(SETS=name) for name, mask in named_masks.items()],\n",
    "        ignore_index=True\n",
    "    )\n",
    "\n",
    "    dataframe.to_csv(os.path.join(path_to_folder, f\"final_set.csv\"), index=False)\n"
   ]
  },
  {
   "cell_type": "markdown",
   "id": "01d7b2ad",
   "metadata": {},
   "source": [
    "## CAPRA"
   ]
  },
  {
   "cell_type": "code",
   "execution_count": null,
   "id": "730ff9fc",
   "metadata": {},
   "outputs": [],
   "source": [
    "save_outer_splits_dataframes(\n",
    "    path_to_df=\"local_data/learning_table.csv\", \n",
    "    path_to_folder=\"local_data/nomograms/CAPRA/\",\n",
    "    stage_feature=CLINICAL_STAGE,\n",
    "    masks=masks,\n",
    "    mapping={0: \"T1-T2\", 1: \"T3a\"}\n",
    ")"
   ]
  },
  {
   "cell_type": "code",
   "execution_count": null,
   "id": "80ac4660",
   "metadata": {},
   "outputs": [],
   "source": [
    "save_final_dataframe(\n",
    "    path_to_learning_df=\"local_data/learning_table.csv\",\n",
    "    path_to_holdout_df=\"local_data/holdout_table.csv\",\n",
    "    path_to_folder=\"local_data/nomograms/CAPRA/\",\n",
    "    stage_feature=CLINICAL_STAGE,\n",
    "    masks=masks,\n",
    "    mapping={0: \"T1-T2\", 1: \"T3a\"}\n",
    ")"
   ]
  },
  {
   "cell_type": "markdown",
   "id": "866f7624",
   "metadata": {},
   "source": [
    "## MSKCC"
   ]
  },
  {
   "cell_type": "code",
   "execution_count": null,
   "id": "5b7914f1",
   "metadata": {},
   "outputs": [],
   "source": [
    "save_outer_splits_dataframes(\n",
    "    path_to_df=\"local_data/mskcc_learning_table.csv\", \n",
    "    path_to_folder=\"local_data/nomograms/MSKCC/\",\n",
    "    stage_feature=CLINICAL_STAGE_MSKCC,\n",
    "    masks=masks,\n",
    "    mapping={0: \"T1c\", 0.2: \"T2a\", 0.4: \"T2b\", 0.6: \"T2c\", 0.8: \"T3a\", 1: \"T3b\"}\n",
    ")"
   ]
  },
  {
   "cell_type": "code",
   "execution_count": null,
   "id": "8b5a8bca",
   "metadata": {},
   "outputs": [],
   "source": [
    "save_final_dataframe(\n",
    "    path_to_learning_df=\"local_data/mskcc_learning_table.csv\",\n",
    "    path_to_holdout_df=\"local_data/mskcc_holdout_table.csv\",\n",
    "    path_to_folder=\"local_data/nomograms/MSKCC/\",\n",
    "    stage_feature=CLINICAL_STAGE_MSKCC,\n",
    "    masks=masks,\n",
    "    mapping={0: \"T1c\", 0.2: \"T2a\", 0.4: \"T2b\", 0.6: \"T2c\", 0.8: \"T3a\", 1: \"T3b\"}\n",
    ")"
   ]
  },
  {
   "cell_type": "markdown",
   "id": "9448dbe1",
   "metadata": {},
   "source": [
    "## CUSTOM"
   ]
  },
  {
   "cell_type": "code",
   "execution_count": null,
   "id": "ca7c494b",
   "metadata": {},
   "outputs": [],
   "source": [
    "save_outer_splits_dataframes(\n",
    "    path_to_df=\"local_data/learning_table.csv\", \n",
    "    path_to_folder=\"local_data/nomograms/CUSTOM/\",\n",
    "    stage_feature=CLINICAL_STAGE,\n",
    "    masks=masks\n",
    ")"
   ]
  },
  {
   "cell_type": "code",
   "execution_count": null,
   "id": "33c719b4",
   "metadata": {},
   "outputs": [],
   "source": [
    "save_final_dataframe(\n",
    "    path_to_learning_df=\"local_data/learning_table.csv\",\n",
    "    path_to_holdout_df=\"local_data/holdout_table.csv\",\n",
    "    path_to_folder=\"local_data/nomograms/CUSTOM/\",\n",
    "    stage_feature=CLINICAL_STAGE,\n",
    "    masks=masks\n",
    ")"
   ]
  }
 ],
 "metadata": {
  "kernelspec": {
   "display_name": "Python 3 (ipykernel)",
   "language": "python",
   "name": "python3"
  },
  "language_info": {
   "codemirror_mode": {
    "name": "ipython",
    "version": 3
   },
   "file_extension": ".py",
   "mimetype": "text/x-python",
   "name": "python",
   "nbconvert_exporter": "python",
   "pygments_lexer": "ipython3",
   "version": "3.11.2"
  }
 },
 "nbformat": 4,
 "nbformat_minor": 5
}
