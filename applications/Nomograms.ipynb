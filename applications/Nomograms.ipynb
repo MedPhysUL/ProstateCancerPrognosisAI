{
 "cells": [
  {
   "cell_type": "code",
   "execution_count": null,
   "id": "3b5d8f22",
   "metadata": {
    "scrolled": true
   },
   "outputs": [],
   "source": [
    "import env_apps\n",
    "\n",
    "import pandas as pd\n",
    "\n",
    "from constants import *\n",
    "from src.data.datasets import Mask, TableDataset\n",
    "from src.data.processing.sampling import extract_masks"
   ]
  },
  {
   "cell_type": "code",
   "execution_count": null,
   "id": "105a614a",
   "metadata": {},
   "outputs": [],
   "source": [
    "# FEATURES\n",
    "AGE = Feature(column=\"AGE\")\n",
    "CLINICAL_STAGE = Feature(column=\"CLINICAL_STAGE\", transform=MappingEncoding({\"T1-T2\": 0, \"T3a\": 1}))\n",
    "CLINICAL_STAGE_MSKCC = Feature(\n",
    "    column=\"CLINICAL_STAGE\",\n",
    "    transform=MappingEncoding(\n",
    "        {\"T1c\": 0, \"T2\": 0.2, \"T2a\": 0.2, \"T2b\": 0.4, \"T2c\": 0.6, \"T3\": 0.8, \"T3a\": 0.8, \"T3b\": 1}\n",
    "    )\n",
    ")\n",
    "GLEASON_GLOBAL = Feature(column=\"GLEASON_GLOBAL\")\n",
    "GLEASON_PRIMARY = Feature(column=\"GLEASON_PRIMARY\")\n",
    "GLEASON_SECONDARY = Feature(column=\"GLEASON_SECONDARY\")\n",
    "PSA = Feature(column=\"PSA\")\n",
    "\n",
    "CONTINUOUS_FEATURES = [AGE, PSA]\n",
    "CATEGORICAL_FEATURES = [CLINICAL_STAGE, GLEASON_GLOBAL, GLEASON_PRIMARY, GLEASON_SECONDARY]\n",
    "MSKCC_CATEGORICAL_FEATURES = [CLINICAL_STAGE_MSKCC, GLEASON_GLOBAL, GLEASON_PRIMARY, GLEASON_SECONDARY]\n"
   ]
  },
  {
   "cell_type": "code",
   "execution_count": null,
   "id": "730ff9fc",
   "metadata": {},
   "outputs": [],
   "source": [
    "learning_df = pd.read_csv(LEARNING_TABLE_PATH)\n",
    "\n",
    "table_dataset = TableDataset(\n",
    "    df=learning_df,\n",
    "    ids_col=ID,\n",
    "    tasks=TABLE_TASKS,\n",
    "    cont_features=CONTINUOUS_FEATURES,\n",
    "    cat_features=CATEGORICAL_FEATURES\n",
    ")\n"
   ]
  },
  {
   "cell_type": "code",
   "execution_count": null,
   "id": "e01a7c2f",
   "metadata": {},
   "outputs": [],
   "source": [
    "from sklearn.linear_model import LogisticRegression\n",
    "from sklearn.neural_network import MLPClassifier\n",
    "from sklearn.ensemble import RandomForestClassifier\n",
    "from sklearn.metrics import roc_auc_score, auc\n",
    "from sklearn.metrics import balanced_accuracy_score\n",
    "\n",
    "masks = extract_masks(os.path.join(MASKS_PATH, \"masks.json\"), k=5, l=5)\n",
    "\n",
    "for k, v in masks.items():\n",
    "    train_mask, valid_mask, test_mask, inner_masks = v[Mask.TRAIN], v[Mask.VALID], v[Mask.TEST], v[Mask.INNER]\n",
    "    table_dataset.update_masks(train_mask=train_mask, valid_mask=valid_mask, test_mask=test_mask)\n",
    "    dataframe = table_dataset.imputed_df.copy()\n",
    "    \n",
    "    train_dataframe = dataframe.iloc[train_mask + valid_mask]\n",
    "    test_dataframe = dataframe.iloc[test_mask]\n",
    "    \n",
    "    X_train = train_dataframe[\n",
    "        [\"AGE\", \"CLINICAL_STAGE\", \"GLEASON_GLOBAL\", \"GLEASON_PRIMARY\", \"GLEASON_SECONDARY\", \"PSA\"]\n",
    "    ].to_numpy()\n",
    "    y_train = train_dataframe[[\"PN\"]].to_numpy().ravel()\n",
    "    \n",
    "    X_test = test_dataframe[\n",
    "        [\"AGE\", \"CLINICAL_STAGE\", \"GLEASON_GLOBAL\", \"GLEASON_PRIMARY\", \"GLEASON_SECONDARY\", \"PSA\"]\n",
    "    ].to_numpy()\n",
    "    y_test = test_dataframe[[\"PN\"]].to_numpy().ravel()\n",
    "\n",
    "    clf = LogisticRegression(random_state=0).fit(X_train, y_train)\n",
    "    y_pred_proba = clf.predict_proba(X_test)[:, 1]\n",
    "    y_pred = clf.predict(X_test)\n",
    "    print(roc_auc_score(y_test, y_pred_proba))\n",
    "    print(balanced_accuracy_score(y_test, y_pred))\n",
    "    \n",
    "    clf = MLPClassifier(random_state=0, max_iter=400).fit(X_train, y_train)\n",
    "    y_pred_proba = clf.predict_proba(X_test)[:, 1]\n",
    "    y_pred = clf.predict(X_test)\n",
    "    print(roc_auc_score(y_test, y_pred_proba))\n",
    "    print(balanced_accuracy_score(y_test, y_pred))\n",
    "    \n",
    "    clf = RandomForestClassifier(random_state=0).fit(X_train, y_train)\n",
    "    y_pred_proba = clf.predict_proba(X_test)[:, 1]\n",
    "    y_pred = clf.predict(X_test)\n",
    "    print(roc_auc_score(y_test, y_pred_proba))\n",
    "    print(balanced_accuracy_score(y_test, y_pred))\n"
   ]
  }
 ],
 "metadata": {
  "kernelspec": {
   "display_name": "Python 3 (ipykernel)",
   "language": "python",
   "name": "python3"
  },
  "language_info": {
   "codemirror_mode": {
    "name": "ipython",
    "version": 3
   },
   "file_extension": ".py",
   "mimetype": "text/x-python",
   "name": "python",
   "nbconvert_exporter": "python",
   "pygments_lexer": "ipython3",
   "version": "3.11.2"
  }
 },
 "nbformat": 4,
 "nbformat_minor": 5
}
